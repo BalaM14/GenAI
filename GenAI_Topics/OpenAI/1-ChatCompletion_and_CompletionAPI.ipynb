{
 "cells": [
  {
   "cell_type": "code",
   "execution_count": 8,
   "id": "366cfe3d",
   "metadata": {},
   "outputs": [],
   "source": [
    "import os\n",
    "import openai\n",
    "from dotenv import load_dotenv\n",
    "load_dotenv()\n",
    "\n",
    "OPENAI_API_KEY = os.getenv(\"genai_openai_key\")\n",
    "openai.api_key = OPENAI_API_KEY"
   ]
  },
  {
   "cell_type": "code",
   "execution_count": 7,
   "id": "e2855ae4",
   "metadata": {},
   "outputs": [
    {
     "name": "stdout",
     "output_type": "stream",
     "text": [
      "Name: openai\n",
      "Version: 1.63.0\n",
      "Summary: The official Python library for the openai API\n",
      "Home-page: https://github.com/openai/openai-python\n",
      "Author: \n",
      "Author-email: OpenAI <support@openai.com>\n",
      "License-Expression: Apache-2.0\n",
      "Location: C:\\Users\\balaj\\AppData\\Roaming\\Python\\Python311\\site-packages\n",
      "Requires: anyio, distro, httpx, jiter, pydantic, sniffio, tqdm, typing-extensions\n",
      "Required-by: langchain-openai\n"
     ]
    }
   ],
   "source": [
    "!pip show openai"
   ]
  },
  {
   "cell_type": "code",
   "execution_count": 19,
   "id": "e9bdd071",
   "metadata": {},
   "outputs": [
    {
     "data": {
      "text/html": [
       "<div>\n",
       "<style scoped>\n",
       "    .dataframe tbody tr th:only-of-type {\n",
       "        vertical-align: middle;\n",
       "    }\n",
       "\n",
       "    .dataframe tbody tr th {\n",
       "        vertical-align: top;\n",
       "    }\n",
       "\n",
       "    .dataframe thead th {\n",
       "        text-align: right;\n",
       "    }\n",
       "</style>\n",
       "<table border=\"1\" class=\"dataframe\">\n",
       "  <thead>\n",
       "    <tr style=\"text-align: right;\">\n",
       "      <th></th>\n",
       "      <th>id</th>\n",
       "      <th>created</th>\n",
       "      <th>object</th>\n",
       "      <th>owned_by</th>\n",
       "    </tr>\n",
       "  </thead>\n",
       "  <tbody>\n",
       "    <tr>\n",
       "      <th>0</th>\n",
       "      <td>gpt-4-0613</td>\n",
       "      <td>1686588896</td>\n",
       "      <td>model</td>\n",
       "      <td>openai</td>\n",
       "    </tr>\n",
       "    <tr>\n",
       "      <th>1</th>\n",
       "      <td>gpt-4</td>\n",
       "      <td>1687882411</td>\n",
       "      <td>model</td>\n",
       "      <td>openai</td>\n",
       "    </tr>\n",
       "    <tr>\n",
       "      <th>2</th>\n",
       "      <td>gpt-3.5-turbo</td>\n",
       "      <td>1677610602</td>\n",
       "      <td>model</td>\n",
       "      <td>openai</td>\n",
       "    </tr>\n",
       "    <tr>\n",
       "      <th>3</th>\n",
       "      <td>gpt-4o-audio-preview-2025-06-03</td>\n",
       "      <td>1748908498</td>\n",
       "      <td>model</td>\n",
       "      <td>system</td>\n",
       "    </tr>\n",
       "    <tr>\n",
       "      <th>4</th>\n",
       "      <td>gpt-4.1-nano</td>\n",
       "      <td>1744321707</td>\n",
       "      <td>model</td>\n",
       "      <td>system</td>\n",
       "    </tr>\n",
       "    <tr>\n",
       "      <th>...</th>\n",
       "      <td>...</td>\n",
       "      <td>...</td>\n",
       "      <td>...</td>\n",
       "      <td>...</td>\n",
       "    </tr>\n",
       "    <tr>\n",
       "      <th>70</th>\n",
       "      <td>gpt-4.1-nano-2025-04-14</td>\n",
       "      <td>1744321025</td>\n",
       "      <td>model</td>\n",
       "      <td>system</td>\n",
       "    </tr>\n",
       "    <tr>\n",
       "      <th>71</th>\n",
       "      <td>gpt-3.5-turbo-16k</td>\n",
       "      <td>1683758102</td>\n",
       "      <td>model</td>\n",
       "      <td>openai-internal</td>\n",
       "    </tr>\n",
       "    <tr>\n",
       "      <th>72</th>\n",
       "      <td>tts-1</td>\n",
       "      <td>1681940951</td>\n",
       "      <td>model</td>\n",
       "      <td>openai-internal</td>\n",
       "    </tr>\n",
       "    <tr>\n",
       "      <th>73</th>\n",
       "      <td>whisper-1</td>\n",
       "      <td>1677532384</td>\n",
       "      <td>model</td>\n",
       "      <td>openai-internal</td>\n",
       "    </tr>\n",
       "    <tr>\n",
       "      <th>74</th>\n",
       "      <td>text-embedding-ada-002</td>\n",
       "      <td>1671217299</td>\n",
       "      <td>model</td>\n",
       "      <td>openai-internal</td>\n",
       "    </tr>\n",
       "  </tbody>\n",
       "</table>\n",
       "<p>75 rows × 4 columns</p>\n",
       "</div>"
      ],
      "text/plain": [
       "                                 id     created object         owned_by\n",
       "0                        gpt-4-0613  1686588896  model           openai\n",
       "1                             gpt-4  1687882411  model           openai\n",
       "2                     gpt-3.5-turbo  1677610602  model           openai\n",
       "3   gpt-4o-audio-preview-2025-06-03  1748908498  model           system\n",
       "4                      gpt-4.1-nano  1744321707  model           system\n",
       "..                              ...         ...    ...              ...\n",
       "70          gpt-4.1-nano-2025-04-14  1744321025  model           system\n",
       "71                gpt-3.5-turbo-16k  1683758102  model  openai-internal\n",
       "72                            tts-1  1681940951  model  openai-internal\n",
       "73                        whisper-1  1677532384  model  openai-internal\n",
       "74           text-embedding-ada-002  1671217299  model  openai-internal\n",
       "\n",
       "[75 rows x 4 columns]"
      ]
     },
     "metadata": {},
     "output_type": "display_data"
    }
   ],
   "source": [
    "import pandas as pd\n",
    "models = openai.models.list()\n",
    "\n",
    "display(pd.DataFrame([m.model_dump() for m in models]))"
   ]
  },
  {
   "cell_type": "markdown",
   "id": "71a2f263",
   "metadata": {},
   "source": [
    "# ChatCompletion and API Completion API \n",
    "\n",
    "- Chat Completion API: Nails it in the chat game, keeping the conversational flow intact\n",
    "- Completion API: Hooks you up with text completions from a single prompt."
   ]
  },
  {
   "cell_type": "markdown",
   "id": "63f7848f",
   "metadata": {},
   "source": [
    "### Chat Completion API"
   ]
  },
  {
   "cell_type": "code",
   "execution_count": 24,
   "id": "df11f699",
   "metadata": {},
   "outputs": [
    {
     "name": "stdout",
     "output_type": "stream",
     "text": [
      "Hello! I'm an AI assistant, so I'm always here to help you. How can I assist you today?\n"
     ]
    }
   ],
   "source": [
    "prompt = \"Hello, How are you?\"\n",
    "\n",
    "response = openai.chat.completions.create(\n",
    "    model= \"gpt-3.5-turbo\",\n",
    "    messages = [\n",
    "        {\"role\": \"system\", \"content\": \"you are a helpful assistant\"},\n",
    "        {\"role\":\"user\",\"content\":prompt}\n",
    "    ]\n",
    ")\n",
    "print(response.choices[0].message.content)"
   ]
  },
  {
   "cell_type": "code",
   "execution_count": 26,
   "id": "032e2e80",
   "metadata": {},
   "outputs": [
    {
     "name": "stdout",
     "output_type": "stream",
     "text": [
      "Hello! Nice to meet you. Based on the information you provided, I can tell that you are 25 years old and work as a programmer. This suggests that you likely have a strong interest in technology, coding, and problem-solving. Your age indicates that you are likely young and starting your career or already well into it. As a programmer, you probably have good analytical skills and enjoy working with computers to create software solutions. Is there anything specific you would like to know or discuss further?\n"
     ]
    }
   ],
   "source": [
    "prompt1 = \"\"\" Hello, How are you ?\" \n",
    "I am 25 years old & I am a Programmer\n",
    "Tell me about me \"\"\"\n",
    "\n",
    "response1 = openai.chat.completions.create(\n",
    "    model= \"gpt-3.5-turbo\",\n",
    "    messages=[\n",
    "        {\"role\":\"system\", \"content\":\"you are a helpful assistant\"},\n",
    "        {\"role\":\"user\",\"content\":prompt1}\n",
    "    ]\n",
    ")\n",
    "\n",
    "print(response1.choices[0].message.content)"
   ]
  },
  {
   "cell_type": "markdown",
   "id": "ac0afc1e",
   "metadata": {},
   "source": [
    "##### Max Token Parameter"
   ]
  },
  {
   "cell_type": "code",
   "execution_count": 28,
   "id": "f54a3f8b",
   "metadata": {},
   "outputs": [
    {
     "name": "stdout",
     "output_type": "stream",
     "text": [
      "Generative AI refers to a type of artificial intelligence that has the ability to generate new content or data that is similar to the\n"
     ]
    }
   ],
   "source": [
    "prompt2 = \"\"\" What is Generative AI\"\"\"\n",
    "\n",
    "response2 = openai.chat.completions.create(\n",
    "    model= \"gpt-3.5-turbo\",\n",
    "    messages=[\n",
    "        {\"role\":\"system\", \"content\":\"you are a helpful assistant\"},\n",
    "        {\"role\":\"user\",\"content\":prompt2}\n",
    "    ],\n",
    "    max_tokens=25\n",
    ")\n",
    "\n",
    "print(response2.choices[0].message.content)"
   ]
  },
  {
   "cell_type": "markdown",
   "id": "66a4a877",
   "metadata": {},
   "source": [
    "##### Temperature Parameter   -  set thee restrictions strictly provide value based on true facts. Higher value -> More precise results"
   ]
  },
  {
   "cell_type": "code",
   "execution_count": 29,
   "id": "d143ae32",
   "metadata": {},
   "outputs": [
    {
     "name": "stdout",
     "output_type": "stream",
     "text": [
      "Generative AI refers to artificial intelligence systems that are capable of creating new content, such as images, text, or music, that did not exist before. These systems are trained on large datasets and use techniques such as neural networks to generate new content that is similar to the data they were trained on. Generative AI has applications in various fields, including art, design, and entertainment.\n"
     ]
    }
   ],
   "source": [
    "prompt3 = \"\"\" What is Generative AI\"\"\"\n",
    "\n",
    "response3 = openai.chat.completions.create(\n",
    "    model= \"gpt-3.5-turbo\",\n",
    "    messages=[\n",
    "        {\"role\":\"system\", \"content\":\"you are a helpful assistant\"},\n",
    "        {\"role\":\"user\",\"content\":prompt3}\n",
    "    ],\n",
    "    temperature=0.6\n",
    ")\n",
    "\n",
    "print(response3.choices[0].message.content)"
   ]
  },
  {
   "cell_type": "markdown",
   "id": "feeec2ce",
   "metadata": {},
   "source": [
    "##### Multi Response"
   ]
  },
  {
   "cell_type": "code",
   "execution_count": null,
   "id": "d8db45a5",
   "metadata": {},
   "outputs": [
    {
     "name": "stdout",
     "output_type": "stream",
     "text": [
      "Generative AI refers to artificial intelligence systems that can generate new content, such as images, text, or music, based on patterns and data it has been trained on. These systems use machine learning algorithms, such as neural networks, to create new content that is similar to the training data but not an exact copy. Generative AI has been used in various applications, including creating realistic images, generating human-like text, and composing music.\n"
     ]
    }
   ],
   "source": [
    "prompt4 = \"\"\" What is Generative AI\"\"\"\n",
    "\n",
    "response4 = openai.chat.completions.create(\n",
    "    model= \"gpt-3.5-turbo\",\n",
    "    messages=[\n",
    "        {\"role\":\"system\", \"content\":\"you are a helpful assistant\"},\n",
    "        {\"role\":\"user\",\"content\":prompt4}\n",
    "    ],\n",
    "    temperature=0.6,\n",
    "    n = 2\n",
    ")\n",
    "\n",
    "print(response4.choices[0].message.content)\n",
    "print()\n",
    "print(response4.choices[1].message.content)"
   ]
  },
  {
   "cell_type": "markdown",
   "id": "4cde3a77",
   "metadata": {},
   "source": [
    "##### Sentiment Prediction"
   ]
  },
  {
   "cell_type": "code",
   "execution_count": 37,
   "id": "7b00701f",
   "metadata": {},
   "outputs": [
    {
     "name": "stdout",
     "output_type": "stream",
     "text": [
      "The sentiment of the sentence \"Dhanush's Kubera movie is awesome\" is positive.\n"
     ]
    }
   ],
   "source": [
    "prompt5 = \"\"\" sentiment of this sentence : Dhanush's Kubera movies is awesome\"\"\"\n",
    "\n",
    "response5 = openai.chat.completions.create(\n",
    "    model= \"gpt-3.5-turbo\",\n",
    "    messages=[\n",
    "        {\"role\":\"system\", \"content\":\"you are a helpful assistant\"},\n",
    "        {\"role\":\"user\",\"content\":prompt5}\n",
    "    ],\n",
    "    temperature=0.6\n",
    ")\n",
    "\n",
    "print(response5.choices[0].message.content)"
   ]
  },
  {
   "cell_type": "markdown",
   "id": "f8e33be2",
   "metadata": {},
   "source": [
    "##### Translation"
   ]
  },
  {
   "cell_type": "code",
   "execution_count": 38,
   "id": "95f000da",
   "metadata": {},
   "outputs": [
    {
     "name": "stdout",
     "output_type": "stream",
     "text": [
      "தனுஷின் குபேரா திரைப்படம் அற்புதம் ஆகுகின்றது.\n"
     ]
    }
   ],
   "source": [
    "prompt6 = \"\"\" Translate this sentence into tamil : Dhanush's Kubera movies is awesome\"\"\"\n",
    "\n",
    "response6 = openai.chat.completions.create(\n",
    "    model= \"gpt-3.5-turbo\",\n",
    "    messages=[\n",
    "        {\"role\":\"system\", \"content\":\"you are a helpful assistant\"},\n",
    "        {\"role\":\"user\",\"content\":prompt6}\n",
    "    ],\n",
    "    temperature=0.6\n",
    ")\n",
    "\n",
    "print(response6.choices[0].message.content)"
   ]
  },
  {
   "cell_type": "markdown",
   "id": "a37173f3",
   "metadata": {},
   "source": [
    "##### Detect Language"
   ]
  },
  {
   "cell_type": "code",
   "execution_count": 39,
   "id": "9eee5949",
   "metadata": {},
   "outputs": [
    {
     "name": "stdout",
     "output_type": "stream",
     "text": [
      "The sentence \"Dhanush's Kubera movies is awesome\" is written in English.\n"
     ]
    }
   ],
   "source": [
    "prompt7 = \"\"\" Detect the language of this sentence : Dhanush's Kubera movies is awesome\"\"\"\n",
    "\n",
    "response7 = openai.chat.completions.create(\n",
    "    model= \"gpt-3.5-turbo\",\n",
    "    messages=[\n",
    "        {\"role\":\"system\", \"content\":\"you are a helpful assistant\"},\n",
    "        {\"role\":\"user\",\"content\":prompt7}\n",
    "    ],\n",
    "    temperature=0.6\n",
    ")\n",
    "\n",
    "print(response7.choices[0].message.content)"
   ]
  },
  {
   "cell_type": "markdown",
   "id": "3b959cec",
   "metadata": {},
   "source": [
    "### Completion API"
   ]
  },
  {
   "cell_type": "code",
   "execution_count": 44,
   "id": "f927f1c1",
   "metadata": {},
   "outputs": [
    {
     "name": "stdout",
     "output_type": "stream",
     "text": [
      ", from India. I joined this platform to get intimate with beauty. I knew\n"
     ]
    }
   ],
   "source": [
    "prompt8 = \" My name is Bala\"\n",
    "response8 = openai.completions.create(\n",
    "    model = \"babbage-002\",\n",
    "    prompt = prompt8\n",
    ")\n",
    "\n",
    "print(response8.choices[0].text)"
   ]
  },
  {
   "cell_type": "code",
   "execution_count": null,
   "id": "09672ac0",
   "metadata": {},
   "outputs": [],
   "source": []
  }
 ],
 "metadata": {
  "kernelspec": {
   "display_name": "Python 3",
   "language": "python",
   "name": "python3"
  },
  "language_info": {
   "codemirror_mode": {
    "name": "ipython",
    "version": 3
   },
   "file_extension": ".py",
   "mimetype": "text/x-python",
   "name": "python",
   "nbconvert_exporter": "python",
   "pygments_lexer": "ipython3",
   "version": "3.11.0"
  }
 },
 "nbformat": 4,
 "nbformat_minor": 5
}
