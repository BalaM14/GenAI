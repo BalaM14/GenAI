{
 "cells": [
  {
   "cell_type": "markdown",
   "id": "c4656e43",
   "metadata": {},
   "source": [
    "# Function Calling API"
   ]
  },
  {
   "cell_type": "code",
   "execution_count": 12,
   "id": "5e6cad6c",
   "metadata": {},
   "outputs": [
    {
     "data": {
      "text/plain": [
       "True"
      ]
     },
     "execution_count": 12,
     "metadata": {},
     "output_type": "execute_result"
    }
   ],
   "source": [
    "import os\n",
    "import openai\n",
    "from dotenv import load_dotenv\n",
    "load_dotenv()"
   ]
  },
  {
   "cell_type": "code",
   "execution_count": 13,
   "id": "207e7757",
   "metadata": {},
   "outputs": [],
   "source": [
    "OPENAI_API_KEY = os.getenv(\"genai_openai_key\")\n",
    "rapid_api_key = os.getenv(\"rapid_api_key\")\n",
    "openai.api_key = OPENAI_API_KEY"
   ]
  },
  {
   "cell_type": "code",
   "execution_count": 14,
   "id": "29b1f63b",
   "metadata": {},
   "outputs": [
    {
     "name": "stdout",
     "output_type": "stream",
     "text": [
      "Name: openai\n",
      "Version: 1.63.0\n",
      "Summary: The official Python library for the openai API\n",
      "Home-page: https://github.com/openai/openai-python\n",
      "Author: \n",
      "Author-email: OpenAI <support@openai.com>\n",
      "License-Expression: Apache-2.0\n",
      "Location: C:\\Users\\balaj\\AppData\\Roaming\\Python\\Python311\\site-packages\n",
      "Requires: anyio, distro, httpx, jiter, pydantic, sniffio, tqdm, typing-extensions\n",
      "Required-by: langchain-openai\n"
     ]
    }
   ],
   "source": [
    "!pip show openai"
   ]
  },
  {
   "cell_type": "markdown",
   "id": "3fa10f2a",
   "metadata": {},
   "source": [
    "# Rapid API Call"
   ]
  },
  {
   "cell_type": "code",
   "execution_count": 16,
   "id": "5f919740",
   "metadata": {},
   "outputs": [
    {
     "name": "stdout",
     "output_type": "stream",
     "text": [
      "{'cod': '200', 'message': 0, 'cnt': 40, 'list': [{'dt': 1750561200, 'summery': 'light rain, 285.3K, feels like 284.95K, winds 2.82 meter/sec from South, 91% humidity', 'main': {'temprature': 285.3, 'temprature_feels_like': 284.95, 'temprature_min': 285.3, 'temprature_max': 286.06, 'temprature_unit': 'K', 'pressure': 1018, 'sea_level_pressure': 1018, 'ground_level_pressure': 1009, 'pressure_unit': 'hPa', 'humidity': 91, 'humidity_unit': '%', 'temp_kf': -0.76}, 'weather': [{'id': 500, 'main': 'Rain', 'description': 'light rain', 'icon': 'https://openweathermap.org/img/wn/10d@2x.png'}], 'clouds': {'cloudiness': 100, 'unit': '%'}, 'wind': {'speed': 2.82, 'degrees': 173, 'direction': 'South', 'gust_speed': 4.84, 'speed_unit': 'meter/sec'}, 'visibility_distance': 10000, 'visibility_unit': 'm', 'probability_of_precipitation': 100, 'probability_of_precipitation_unit': '%', 'rain': {'amount': 0.85, 'unit': 'mm in the last 3 hour'}, 'snow': {'amount': 0, 'unit': 'mm in the last 3 hour'}, 'sys': {'part_of_day': 'day'}, 'dt_txt': '2025-06-22 03:00:00'}, {'dt': 1750572000, 'summery': 'light rain, 285.79K, feels like 285.54K, winds 2.27 meter/sec from South, 93% humidity', 'main': {'temprature': 285.79, 'temprature_feels_like': 285.54, 'temprature_min': 285.79, 'temprature_max': 286.77, 'temprature_unit': 'K', 'pressure': 1018, 'sea_level_pressure': 1018, 'ground_level_pressure': 1010, 'pressure_unit': 'hPa', 'humidity': 93, 'humidity_unit': '%', 'temp_kf': -0.98}, 'weather': [{'id': 500, 'main': 'Rain', 'description': 'light rain', 'icon': 'https://openweathermap.org/img/wn/10n@2x.png'}], 'clouds': {'cloudiness': 100, 'unit': '%'}, 'wind': {'speed': 2.27, 'degrees': 183, 'direction': 'South', 'gust_speed': 4, 'speed_unit': 'meter/sec'}, 'visibility_distance': 10000, 'visibility_unit': 'm', 'probability_of_precipitation': 100, 'probability_of_precipitation_unit': '%', 'rain': {'amount': 0.14, 'unit': 'mm in the last 3 hour'}, 'snow': {'amount': 0, 'unit': 'mm in the last 3 hour'}, 'sys': {'part_of_day': 'night'}, 'dt_txt': '2025-06-22 06:00:00'}, {'dt': 1750582800, 'summery': 'light rain, 286.47K, feels like 286.36K, winds 2.97 meter/sec from South, 96% humidity', 'main': {'temprature': 286.47, 'temprature_feels_like': 286.36, 'temprature_min': 286.47, 'temprature_max': 287.06, 'temprature_unit': 'K', 'pressure': 1019, 'sea_level_pressure': 1019, 'ground_level_pressure': 1009, 'pressure_unit': 'hPa', 'humidity': 96, 'humidity_unit': '%', 'temp_kf': -0.59}, 'weather': [{'id': 500, 'main': 'Rain', 'description': 'light rain', 'icon': 'https://openweathermap.org/img/wn/10n@2x.png'}], 'clouds': {'cloudiness': 100, 'unit': '%'}, 'wind': {'speed': 2.97, 'degrees': 179, 'direction': 'South', 'gust_speed': 6.36, 'speed_unit': 'meter/sec'}, 'visibility_distance': 10000, 'visibility_unit': 'm', 'probability_of_precipitation': 20, 'probability_of_precipitation_unit': '%', 'rain': {'amount': 0.11, 'unit': 'mm in the last 3 hour'}, 'snow': {'amount': 0, 'unit': 'mm in the last 3 hour'}, 'sys': {'part_of_day': 'night'}, 'dt_txt': '2025-06-22 09:00:00'}, {'dt': 1750593600, 'summery': 'overcast clouds, 286.84K, feels like 286.82K, winds 2.5 meter/sec from South, 98% humidity', 'main': {'temprature': 286.84, 'temprature_feels_like': 286.82, 'temprature_min': 286.84, 'temprature_max': 286.84, 'temprature_unit': 'K', 'pressure': 1019, 'sea_level_pressure': 1019, 'ground_level_pressure': 1010, 'pressure_unit': 'hPa', 'humidity': 98, 'humidity_unit': '%', 'temp_kf': 0}, 'weather': [{'id': 804, 'main': 'Clouds', 'description': 'overcast clouds', 'icon': 'https://openweathermap.org/img/wn/04n@2x.png'}], 'clouds': {'cloudiness': 100, 'unit': '%'}, 'wind': {'speed': 2.5, 'degrees': 170, 'direction': 'South', 'gust_speed': 5.78, 'speed_unit': 'meter/sec'}, 'visibility_distance': 10000, 'visibility_unit': 'm', 'probability_of_precipitation': 0, 'probability_of_precipitation_unit': '%', 'rain': {'amount': 0, 'unit': 'mm in the last 3 hour'}, 'snow': {'amount': 0, 'unit': 'mm in the last 3 hour'}, 'sys': {'part_of_day': 'night'}, 'dt_txt': '2025-06-22 12:00:00'}, {'dt': 1750604400, 'summery': 'overcast clouds, 285.97K, feels like 285.81K, winds 2.06 meter/sec from South, 96% humidity', 'main': {'temprature': 285.97, 'temprature_feels_like': 285.81, 'temprature_min': 285.97, 'temprature_max': 285.97, 'temprature_unit': 'K', 'pressure': 1020, 'sea_level_pressure': 1020, 'ground_level_pressure': 1011, 'pressure_unit': 'hPa', 'humidity': 96, 'humidity_unit': '%', 'temp_kf': 0}, 'weather': [{'id': 804, 'main': 'Clouds', 'description': 'overcast clouds', 'icon': 'https://openweathermap.org/img/wn/04d@2x.png'}], 'clouds': {'cloudiness': 100, 'unit': '%'}, 'wind': {'speed': 2.06, 'degrees': 176, 'direction': 'South', 'gust_speed': 4.78, 'speed_unit': 'meter/sec'}, 'visibility_distance': 10000, 'visibility_unit': 'm', 'probability_of_precipitation': 0, 'probability_of_precipitation_unit': '%', 'rain': {'amount': 0, 'unit': 'mm in the last 3 hour'}, 'snow': {'amount': 0, 'unit': 'mm in the last 3 hour'}, 'sys': {'part_of_day': 'day'}, 'dt_txt': '2025-06-22 15:00:00'}, {'dt': 1750615200, 'summery': 'light rain, 290.5K, feels like 290.35K, winds 2.91 meter/sec from South, 79% humidity', 'main': {'temprature': 290.5, 'temprature_feels_like': 290.35, 'temprature_min': 290.5, 'temprature_max': 290.5, 'temprature_unit': 'K', 'pressure': 1021, 'sea_level_pressure': 1021, 'ground_level_pressure': 1012, 'pressure_unit': 'hPa', 'humidity': 79, 'humidity_unit': '%', 'temp_kf': 0}, 'weather': [{'id': 500, 'main': 'Rain', 'description': 'light rain', 'icon': 'https://openweathermap.org/img/wn/10d@2x.png'}], 'clouds': {'cloudiness': 100, 'unit': '%'}, 'wind': {'speed': 2.91, 'degrees': 176, 'direction': 'South', 'gust_speed': 3.05, 'speed_unit': 'meter/sec'}, 'visibility_distance': 10000, 'visibility_unit': 'm', 'probability_of_precipitation': 20, 'probability_of_precipitation_unit': '%', 'rain': {'amount': 0.1, 'unit': 'mm in the last 3 hour'}, 'snow': {'amount': 0, 'unit': 'mm in the last 3 hour'}, 'sys': {'part_of_day': 'day'}, 'dt_txt': '2025-06-22 18:00:00'}, {'dt': 1750626000, 'summery': 'broken clouds, 294.21K, feels like 293.68K, winds 1.64 meter/sec from South, 50% humidity', 'main': {'temprature': 294.21, 'temprature_feels_like': 293.68, 'temprature_min': 294.21, 'temprature_max': 294.21, 'temprature_unit': 'K', 'pressure': 1020, 'sea_level_pressure': 1020, 'ground_level_pressure': 1011, 'pressure_unit': 'hPa', 'humidity': 50, 'humidity_unit': '%', 'temp_kf': 0}, 'weather': [{'id': 803, 'main': 'Clouds', 'description': 'broken clouds', 'icon': 'https://openweathermap.org/img/wn/04d@2x.png'}], 'clouds': {'cloudiness': 52, 'unit': '%'}, 'wind': {'speed': 1.64, 'degrees': 179, 'direction': 'South', 'gust_speed': 1.51, 'speed_unit': 'meter/sec'}, 'visibility_distance': 10000, 'visibility_unit': 'm', 'probability_of_precipitation': 0, 'probability_of_precipitation_unit': '%', 'rain': {'amount': 0, 'unit': 'mm in the last 3 hour'}, 'snow': {'amount': 0, 'unit': 'mm in the last 3 hour'}, 'sys': {'part_of_day': 'day'}, 'dt_txt': '2025-06-22 21:00:00'}, {'dt': 1750636800, 'summery': 'scattered clouds, 295.51K, feels like 294.98K, winds 1.54 meter/sec from East-Northeast, 45% humidity', 'main': {'temprature': 295.51, 'temprature_feels_like': 294.98, 'temprature_min': 295.51, 'temprature_max': 295.51, 'temprature_unit': 'K', 'pressure': 1019, 'sea_level_pressure': 1019, 'ground_level_pressure': 1010, 'pressure_unit': 'hPa', 'humidity': 45, 'humidity_unit': '%', 'temp_kf': 0}, 'weather': [{'id': 802, 'main': 'Clouds', 'description': 'scattered clouds', 'icon': 'https://openweathermap.org/img/wn/03d@2x.png'}], 'clouds': {'cloudiness': 42, 'unit': '%'}, 'wind': {'speed': 1.54, 'degrees': 57, 'direction': 'East-Northeast', 'gust_speed': 1.7, 'speed_unit': 'meter/sec'}, 'visibility_distance': 10000, 'visibility_unit': 'm', 'probability_of_precipitation': 0, 'probability_of_precipitation_unit': '%', 'rain': {'amount': 0, 'unit': 'mm in the last 3 hour'}, 'snow': {'amount': 0, 'unit': 'mm in the last 3 hour'}, 'sys': {'part_of_day': 'day'}, 'dt_txt': '2025-06-23 00:00:00'}, {'dt': 1750647600, 'summery': 'few clouds, 291.46K, feels like 291.15K, winds 1.82 meter/sec from East-Northeast, 69% humidity', 'main': {'temprature': 291.46, 'temprature_feels_like': 291.15, 'temprature_min': 291.46, 'temprature_max': 291.46, 'temprature_unit': 'K', 'pressure': 1019, 'sea_level_pressure': 1019, 'ground_level_pressure': 1010, 'pressure_unit': 'hPa', 'humidity': 69, 'humidity_unit': '%', 'temp_kf': 0}, 'weather': [{'id': 801, 'main': 'Clouds', 'description': 'few clouds', 'icon': 'https://openweathermap.org/img/wn/02d@2x.png'}], 'clouds': {'cloudiness': 12, 'unit': '%'}, 'wind': {'speed': 1.82, 'degrees': 65, 'direction': 'East-Northeast', 'gust_speed': 2.18, 'speed_unit': 'meter/sec'}, 'visibility_distance': 10000, 'visibility_unit': 'm', 'probability_of_precipitation': 0, 'probability_of_precipitation_unit': '%', 'rain': {'amount': 0, 'unit': 'mm in the last 3 hour'}, 'snow': {'amount': 0, 'unit': 'mm in the last 3 hour'}, 'sys': {'part_of_day': 'day'}, 'dt_txt': '2025-06-23 03:00:00'}, {'dt': 1750658400, 'summery': 'clear sky, 285.76K, feels like 285.35K, winds 1.28 meter/sec from North-Northwest, 87% humidity', 'main': {'temprature': 285.76, 'temprature_feels_like': 285.35, 'temprature_min': 285.76, 'temprature_max': 285.76, 'temprature_unit': 'K', 'pressure': 1019, 'sea_level_pressure': 1019, 'ground_level_pressure': 1010, 'pressure_unit': 'hPa', 'humidity': 87, 'humidity_unit': '%', 'temp_kf': 0}, 'weather': [{'id': 800, 'main': 'Clear', 'description': 'clear sky', 'icon': 'https://openweathermap.org/img/wn/01n@2x.png'}], 'clouds': {'cloudiness': 5, 'unit': '%'}, 'wind': {'speed': 1.28, 'degrees': 337, 'direction': 'North-Northwest', 'gust_speed': 1.32, 'speed_unit': 'meter/sec'}, 'visibility_distance': 10000, 'visibility_unit': 'm', 'probability_of_precipitation': 0, 'probability_of_precipitation_unit': '%', 'rain': {'amount': 0, 'unit': 'mm in the last 3 hour'}, 'snow': {'amount': 0, 'unit': 'mm in the last 3 hour'}, 'sys': {'part_of_day': 'night'}, 'dt_txt': '2025-06-23 06:00:00'}, {'dt': 1750669200, 'summery': 'clear sky, 283.82K, feels like 283.4K, winds 0.63 meter/sec from North, 94% humidity', 'main': {'temprature': 283.82, 'temprature_feels_like': 283.4, 'temprature_min': 283.82, 'temprature_max': 283.82, 'temprature_unit': 'K', 'pressure': 1019, 'sea_level_pressure': 1019, 'ground_level_pressure': 1010, 'pressure_unit': 'hPa', 'humidity': 94, 'humidity_unit': '%', 'temp_kf': 0}, 'weather': [{'id': 800, 'main': 'Clear', 'description': 'clear sky', 'icon': 'https://openweathermap.org/img/wn/01n@2x.png'}], 'clouds': {'cloudiness': 0, 'unit': '%'}, 'wind': {'speed': 0.63, 'degrees': 356, 'direction': 'North', 'gust_speed': 0.65, 'speed_unit': 'meter/sec'}, 'visibility_distance': 10000, 'visibility_unit': 'm', 'probability_of_precipitation': 0, 'probability_of_precipitation_unit': '%', 'rain': {'amount': 0, 'unit': 'mm in the last 3 hour'}, 'snow': {'amount': 0, 'unit': 'mm in the last 3 hour'}, 'sys': {'part_of_day': 'night'}, 'dt_txt': '2025-06-23 09:00:00'}, {'dt': 1750680000, 'summery': 'clear sky, 282.82K, feels like 282.82K, winds 1.02 meter/sec from North-Northeast, 95% humidity', 'main': {'temprature': 282.82, 'temprature_feels_like': 282.82, 'temprature_min': 282.82, 'temprature_max': 282.82, 'temprature_unit': 'K', 'pressure': 1019, 'sea_level_pressure': 1019, 'ground_level_pressure': 1010, 'pressure_unit': 'hPa', 'humidity': 95, 'humidity_unit': '%', 'temp_kf': 0}, 'weather': [{'id': 800, 'main': 'Clear', 'description': 'clear sky', 'icon': 'https://openweathermap.org/img/wn/01n@2x.png'}], 'clouds': {'cloudiness': 2, 'unit': '%'}, 'wind': {'speed': 1.02, 'degrees': 21, 'direction': 'North-Northeast', 'gust_speed': 0.97, 'speed_unit': 'meter/sec'}, 'visibility_distance': 10000, 'visibility_unit': 'm', 'probability_of_precipitation': 0, 'probability_of_precipitation_unit': '%', 'rain': {'amount': 0, 'unit': 'mm in the last 3 hour'}, 'snow': {'amount': 0, 'unit': 'mm in the last 3 hour'}, 'sys': {'part_of_day': 'night'}, 'dt_txt': '2025-06-23 12:00:00'}, {'dt': 1750690800, 'summery': 'overcast clouds, 286.81K, feels like 286.4K, winds 0.97 meter/sec from North, 83% humidity', 'main': {'temprature': 286.81, 'temprature_feels_like': 286.4, 'temprature_min': 286.81, 'temprature_max': 286.81, 'temprature_unit': 'K', 'pressure': 1018, 'sea_level_pressure': 1018, 'ground_level_pressure': 1009, 'pressure_unit': 'hPa', 'humidity': 83, 'humidity_unit': '%', 'temp_kf': 0}, 'weather': [{'id': 804, 'main': 'Clouds', 'description': 'overcast clouds', 'icon': 'https://openweathermap.org/img/wn/04d@2x.png'}], 'clouds': {'cloudiness': 91, 'unit': '%'}, 'wind': {'speed': 0.97, 'degrees': 355, 'direction': 'North', 'gust_speed': 1.25, 'speed_unit': 'meter/sec'}, 'visibility_distance': 10000, 'visibility_unit': 'm', 'probability_of_precipitation': 0, 'probability_of_precipitation_unit': '%', 'rain': {'amount': 0, 'unit': 'mm in the last 3 hour'}, 'snow': {'amount': 0, 'unit': 'mm in the last 3 hour'}, 'sys': {'part_of_day': 'day'}, 'dt_txt': '2025-06-23 15:00:00'}, {'dt': 1750701600, 'summery': 'overcast clouds, 293.3K, feels like 292.91K, winds 2.08 meter/sec from North-Northeast, 59% humidity', 'main': {'temprature': 293.3, 'temprature_feels_like': 292.91, 'temprature_min': 293.3, 'temprature_max': 293.3, 'temprature_unit': 'K', 'pressure': 1017, 'sea_level_pressure': 1017, 'ground_level_pressure': 1008, 'pressure_unit': 'hPa', 'humidity': 59, 'humidity_unit': '%', 'temp_kf': 0}, 'weather': [{'id': 804, 'main': 'Clouds', 'description': 'overcast clouds', 'icon': 'https://openweathermap.org/img/wn/04d@2x.png'}], 'clouds': {'cloudiness': 95, 'unit': '%'}, 'wind': {'speed': 2.08, 'degrees': 26, 'direction': 'North-Northeast', 'gust_speed': 2.2, 'speed_unit': 'meter/sec'}, 'visibility_distance': 10000, 'visibility_unit': 'm', 'probability_of_precipitation': 0, 'probability_of_precipitation_unit': '%', 'rain': {'amount': 0, 'unit': 'mm in the last 3 hour'}, 'snow': {'amount': 0, 'unit': 'mm in the last 3 hour'}, 'sys': {'part_of_day': 'day'}, 'dt_txt': '2025-06-23 18:00:00'}, {'dt': 1750712400, 'summery': 'overcast clouds, 297.34K, feels like 296.99K, winds 2.24 meter/sec from North-Northeast, 45% humidity', 'main': {'temprature': 297.34, 'temprature_feels_like': 296.99, 'temprature_min': 297.34, 'temprature_max': 297.34, 'temprature_unit': 'K', 'pressure': 1015, 'sea_level_pressure': 1015, 'ground_level_pressure': 1007, 'pressure_unit': 'hPa', 'humidity': 45, 'humidity_unit': '%', 'temp_kf': 0}, 'weather': [{'id': 804, 'main': 'Clouds', 'description': 'overcast clouds', 'icon': 'https://openweathermap.org/img/wn/04d@2x.png'}], 'clouds': {'cloudiness': 100, 'unit': '%'}, 'wind': {'speed': 2.24, 'degrees': 16, 'direction': 'North-Northeast', 'gust_speed': 2.15, 'speed_unit': 'meter/sec'}, 'visibility_distance': 10000, 'visibility_unit': 'm', 'probability_of_precipitation': 0, 'probability_of_precipitation_unit': '%', 'rain': {'amount': 0, 'unit': 'mm in the last 3 hour'}, 'snow': {'amount': 0, 'unit': 'mm in the last 3 hour'}, 'sys': {'part_of_day': 'day'}, 'dt_txt': '2025-06-23 21:00:00'}, {'dt': 1750723200, 'summery': 'overcast clouds, 298.08K, feels like 297.75K, winds 1.73 meter/sec from North-Northeast, 43% humidity', 'main': {'temprature': 298.08, 'temprature_feels_like': 297.75, 'temprature_min': 298.08, 'temprature_max': 298.08, 'temprature_unit': 'K', 'pressure': 1014, 'sea_level_pressure': 1014, 'ground_level_pressure': 1005, 'pressure_unit': 'hPa', 'humidity': 43, 'humidity_unit': '%', 'temp_kf': 0}, 'weather': [{'id': 804, 'main': 'Clouds', 'description': 'overcast clouds', 'icon': 'https://openweathermap.org/img/wn/04d@2x.png'}], 'clouds': {'cloudiness': 100, 'unit': '%'}, 'wind': {'speed': 1.73, 'degrees': 32, 'direction': 'North-Northeast', 'gust_speed': 2.3, 'speed_unit': 'meter/sec'}, 'visibility_distance': 10000, 'visibility_unit': 'm', 'probability_of_precipitation': 0, 'probability_of_precipitation_unit': '%', 'rain': {'amount': 0, 'unit': 'mm in the last 3 hour'}, 'snow': {'amount': 0, 'unit': 'mm in the last 3 hour'}, 'sys': {'part_of_day': 'day'}, 'dt_txt': '2025-06-24 00:00:00'}, {'dt': 1750734000, 'summery': 'overcast clouds, 293.78K, feels like 293.54K, winds 2.14 meter/sec from West-Northwest, 63% humidity', 'main': {'temprature': 293.78, 'temprature_feels_like': 293.54, 'temprature_min': 293.78, 'temprature_max': 293.78, 'temprature_unit': 'K', 'pressure': 1013, 'sea_level_pressure': 1013, 'ground_level_pressure': 1005, 'pressure_unit': 'hPa', 'humidity': 63, 'humidity_unit': '%', 'temp_kf': 0}, 'weather': [{'id': 804, 'main': 'Clouds', 'description': 'overcast clouds', 'icon': 'https://openweathermap.org/img/wn/04d@2x.png'}], 'clouds': {'cloudiness': 100, 'unit': '%'}, 'wind': {'speed': 2.14, 'degrees': 294, 'direction': 'West-Northwest', 'gust_speed': 3.93, 'speed_unit': 'meter/sec'}, 'visibility_distance': 10000, 'visibility_unit': 'm', 'probability_of_precipitation': 0, 'probability_of_precipitation_unit': '%', 'rain': {'amount': 0, 'unit': 'mm in the last 3 hour'}, 'snow': {'amount': 0, 'unit': 'mm in the last 3 hour'}, 'sys': {'part_of_day': 'day'}, 'dt_txt': '2025-06-24 03:00:00'}, {'dt': 1750744800, 'summery': 'overcast clouds, 286.97K, feels like 286.47K, winds 1.52 meter/sec from West, 79% humidity', 'main': {'temprature': 286.97, 'temprature_feels_like': 286.47, 'temprature_min': 286.97, 'temprature_max': 286.97, 'temprature_unit': 'K', 'pressure': 1014, 'sea_level_pressure': 1014, 'ground_level_pressure': 1005, 'pressure_unit': 'hPa', 'humidity': 79, 'humidity_unit': '%', 'temp_kf': 0}, 'weather': [{'id': 804, 'main': 'Clouds', 'description': 'overcast clouds', 'icon': 'https://openweathermap.org/img/wn/04n@2x.png'}], 'clouds': {'cloudiness': 87, 'unit': '%'}, 'wind': {'speed': 1.52, 'degrees': 279, 'direction': 'West', 'gust_speed': 1.4, 'speed_unit': 'meter/sec'}, 'visibility_distance': 10000, 'visibility_unit': 'm', 'probability_of_precipitation': 0, 'probability_of_precipitation_unit': '%', 'rain': {'amount': 0, 'unit': 'mm in the last 3 hour'}, 'snow': {'amount': 0, 'unit': 'mm in the last 3 hour'}, 'sys': {'part_of_day': 'night'}, 'dt_txt': '2025-06-24 06:00:00'}, {'dt': 1750755600, 'summery': 'overcast clouds, 285.28K, feels like 284.77K, winds 0.53 meter/sec from West-Southwest, 85% humidity', 'main': {'temprature': 285.28, 'temprature_feels_like': 284.77, 'temprature_min': 285.28, 'temprature_max': 285.28, 'temprature_unit': 'K', 'pressure': 1014, 'sea_level_pressure': 1014, 'ground_level_pressure': 1005, 'pressure_unit': 'hPa', 'humidity': 85, 'humidity_unit': '%', 'temp_kf': 0}, 'weather': [{'id': 804, 'main': 'Clouds', 'description': 'overcast clouds', 'icon': 'https://openweathermap.org/img/wn/04n@2x.png'}], 'clouds': {'cloudiness': 92, 'unit': '%'}, 'wind': {'speed': 0.53, 'degrees': 240, 'direction': 'West-Southwest', 'gust_speed': 0.52, 'speed_unit': 'meter/sec'}, 'visibility_distance': 10000, 'visibility_unit': 'm', 'probability_of_precipitation': 0, 'probability_of_precipitation_unit': '%', 'rain': {'amount': 0, 'unit': 'mm in the last 3 hour'}, 'snow': {'amount': 0, 'unit': 'mm in the last 3 hour'}, 'sys': {'part_of_day': 'night'}, 'dt_txt': '2025-06-24 09:00:00'}, {'dt': 1750766400, 'summery': 'broken clouds, 283.79K, feels like 283.29K, winds 0.53 meter/sec from South-Southwest, 91% humidity', 'main': {'temprature': 283.79, 'temprature_feels_like': 283.29, 'temprature_min': 283.79, 'temprature_max': 283.79, 'temprature_unit': 'K', 'pressure': 1015, 'sea_level_pressure': 1015, 'ground_level_pressure': 1006, 'pressure_unit': 'hPa', 'humidity': 91, 'humidity_unit': '%', 'temp_kf': 0}, 'weather': [{'id': 803, 'main': 'Clouds', 'description': 'broken clouds', 'icon': 'https://openweathermap.org/img/wn/04n@2x.png'}], 'clouds': {'cloudiness': 60, 'unit': '%'}, 'wind': {'speed': 0.53, 'degrees': 205, 'direction': 'South-Southwest', 'gust_speed': 0.53, 'speed_unit': 'meter/sec'}, 'visibility_distance': 10000, 'visibility_unit': 'm', 'probability_of_precipitation': 0, 'probability_of_precipitation_unit': '%', 'rain': {'amount': 0, 'unit': 'mm in the last 3 hour'}, 'snow': {'amount': 0, 'unit': 'mm in the last 3 hour'}, 'sys': {'part_of_day': 'night'}, 'dt_txt': '2025-06-24 12:00:00'}, {'dt': 1750777200, 'summery': 'scattered clouds, 288.75K, feels like 288.27K, winds 0.94 meter/sec from South, 73% humidity', 'main': {'temprature': 288.75, 'temprature_feels_like': 288.27, 'temprature_min': 288.75, 'temprature_max': 288.75, 'temprature_unit': 'K', 'pressure': 1016, 'sea_level_pressure': 1016, 'ground_level_pressure': 1007, 'pressure_unit': 'hPa', 'humidity': 73, 'humidity_unit': '%', 'temp_kf': 0}, 'weather': [{'id': 802, 'main': 'Clouds', 'description': 'scattered clouds', 'icon': 'https://openweathermap.org/img/wn/03d@2x.png'}], 'clouds': {'cloudiness': 31, 'unit': '%'}, 'wind': {'speed': 0.94, 'degrees': 186, 'direction': 'South', 'gust_speed': 1.15, 'speed_unit': 'meter/sec'}, 'visibility_distance': 10000, 'visibility_unit': 'm', 'probability_of_precipitation': 0, 'probability_of_precipitation_unit': '%', 'rain': {'amount': 0, 'unit': 'mm in the last 3 hour'}, 'snow': {'amount': 0, 'unit': 'mm in the last 3 hour'}, 'sys': {'part_of_day': 'day'}, 'dt_txt': '2025-06-24 15:00:00'}, {'dt': 1750788000, 'summery': 'scattered clouds, 296.4K, feels like 296.14K, winds 0.62 meter/sec from Southwest, 52% humidity', 'main': {'temprature': 296.4, 'temprature_feels_like': 296.14, 'temprature_min': 296.4, 'temprature_max': 296.4, 'temprature_unit': 'K', 'pressure': 1015, 'sea_level_pressure': 1015, 'ground_level_pressure': 1007, 'pressure_unit': 'hPa', 'humidity': 52, 'humidity_unit': '%', 'temp_kf': 0}, 'weather': [{'id': 802, 'main': 'Clouds', 'description': 'scattered clouds', 'icon': 'https://openweathermap.org/img/wn/03d@2x.png'}], 'clouds': {'cloudiness': 26, 'unit': '%'}, 'wind': {'speed': 0.62, 'degrees': 232, 'direction': 'Southwest', 'gust_speed': 1.35, 'speed_unit': 'meter/sec'}, 'visibility_distance': 10000, 'visibility_unit': 'm', 'probability_of_precipitation': 0, 'probability_of_precipitation_unit': '%', 'rain': {'amount': 0, 'unit': 'mm in the last 3 hour'}, 'snow': {'amount': 0, 'unit': 'mm in the last 3 hour'}, 'sys': {'part_of_day': 'day'}, 'dt_txt': '2025-06-24 18:00:00'}, {'dt': 1750798800, 'summery': 'overcast clouds, 300.23K, feels like 300.07K, winds 0.89 meter/sec from South, 40% humidity', 'main': {'temprature': 300.23, 'temprature_feels_like': 300.07, 'temprature_min': 300.23, 'temprature_max': 300.23, 'temprature_unit': 'K', 'pressure': 1014, 'sea_level_pressure': 1014, 'ground_level_pressure': 1005, 'pressure_unit': 'hPa', 'humidity': 40, 'humidity_unit': '%', 'temp_kf': 0}, 'weather': [{'id': 804, 'main': 'Clouds', 'description': 'overcast clouds', 'icon': 'https://openweathermap.org/img/wn/04d@2x.png'}], 'clouds': {'cloudiness': 98, 'unit': '%'}, 'wind': {'speed': 0.89, 'degrees': 181, 'direction': 'South', 'gust_speed': 2.36, 'speed_unit': 'meter/sec'}, 'visibility_distance': 10000, 'visibility_unit': 'm', 'probability_of_precipitation': 0, 'probability_of_precipitation_unit': '%', 'rain': {'amount': 0, 'unit': 'mm in the last 3 hour'}, 'snow': {'amount': 0, 'unit': 'mm in the last 3 hour'}, 'sys': {'part_of_day': 'day'}, 'dt_txt': '2025-06-24 21:00:00'}, {'dt': 1750809600, 'summery': 'overcast clouds, 296.85K, feels like 296.42K, winds 4.89 meter/sec from West, 44% humidity', 'main': {'temprature': 296.85, 'temprature_feels_like': 296.42, 'temprature_min': 296.85, 'temprature_max': 296.85, 'temprature_unit': 'K', 'pressure': 1014, 'sea_level_pressure': 1014, 'ground_level_pressure': 1005, 'pressure_unit': 'hPa', 'humidity': 44, 'humidity_unit': '%', 'temp_kf': 0}, 'weather': [{'id': 804, 'main': 'Clouds', 'description': 'overcast clouds', 'icon': 'https://openweathermap.org/img/wn/04d@2x.png'}], 'clouds': {'cloudiness': 99, 'unit': '%'}, 'wind': {'speed': 4.89, 'degrees': 278, 'direction': 'West', 'gust_speed': 5.97, 'speed_unit': 'meter/sec'}, 'visibility_distance': 10000, 'visibility_unit': 'm', 'probability_of_precipitation': 0, 'probability_of_precipitation_unit': '%', 'rain': {'amount': 0, 'unit': 'mm in the last 3 hour'}, 'snow': {'amount': 0, 'unit': 'mm in the last 3 hour'}, 'sys': {'part_of_day': 'day'}, 'dt_txt': '2025-06-25 00:00:00'}, {'dt': 1750820400, 'summery': 'overcast clouds, 290.97K, feels like 290.61K, winds 2.97 meter/sec from West, 69% humidity', 'main': {'temprature': 290.97, 'temprature_feels_like': 290.61, 'temprature_min': 290.97, 'temprature_max': 290.97, 'temprature_unit': 'K', 'pressure': 1015, 'sea_level_pressure': 1015, 'ground_level_pressure': 1006, 'pressure_unit': 'hPa', 'humidity': 69, 'humidity_unit': '%', 'temp_kf': 0}, 'weather': [{'id': 804, 'main': 'Clouds', 'description': 'overcast clouds', 'icon': 'https://openweathermap.org/img/wn/04d@2x.png'}], 'clouds': {'cloudiness': 100, 'unit': '%'}, 'wind': {'speed': 2.97, 'degrees': 274, 'direction': 'West', 'gust_speed': 7.45, 'speed_unit': 'meter/sec'}, 'visibility_distance': 10000, 'visibility_unit': 'm', 'probability_of_precipitation': 0, 'probability_of_precipitation_unit': '%', 'rain': {'amount': 0, 'unit': 'mm in the last 3 hour'}, 'snow': {'amount': 0, 'unit': 'mm in the last 3 hour'}, 'sys': {'part_of_day': 'day'}, 'dt_txt': '2025-06-25 03:00:00'}, {'dt': 1750831200, 'summery': 'overcast clouds, 286.59K, feels like 286.29K, winds 2.27 meter/sec from West-Southwest, 88% humidity', 'main': {'temprature': 286.59, 'temprature_feels_like': 286.29, 'temprature_min': 286.59, 'temprature_max': 286.59, 'temprature_unit': 'K', 'pressure': 1017, 'sea_level_pressure': 1017, 'ground_level_pressure': 1008, 'pressure_unit': 'hPa', 'humidity': 88, 'humidity_unit': '%', 'temp_kf': 0}, 'weather': [{'id': 804, 'main': 'Clouds', 'description': 'overcast clouds', 'icon': 'https://openweathermap.org/img/wn/04n@2x.png'}], 'clouds': {'cloudiness': 100, 'unit': '%'}, 'wind': {'speed': 2.27, 'degrees': 244, 'direction': 'West-Southwest', 'gust_speed': 5.67, 'speed_unit': 'meter/sec'}, 'visibility_distance': 10000, 'visibility_unit': 'm', 'probability_of_precipitation': 0, 'probability_of_precipitation_unit': '%', 'rain': {'amount': 0, 'unit': 'mm in the last 3 hour'}, 'snow': {'amount': 0, 'unit': 'mm in the last 3 hour'}, 'sys': {'part_of_day': 'night'}, 'dt_txt': '2025-06-25 06:00:00'}, {'dt': 1750842000, 'summery': 'overcast clouds, 284.86K, feels like 284.59K, winds 1.9 meter/sec from South, 96% humidity', 'main': {'temprature': 284.86, 'temprature_feels_like': 284.59, 'temprature_min': 284.86, 'temprature_max': 284.86, 'temprature_unit': 'K', 'pressure': 1017, 'sea_level_pressure': 1017, 'ground_level_pressure': 1008, 'pressure_unit': 'hPa', 'humidity': 96, 'humidity_unit': '%', 'temp_kf': 0}, 'weather': [{'id': 804, 'main': 'Clouds', 'description': 'overcast clouds', 'icon': 'https://openweathermap.org/img/wn/04n@2x.png'}], 'clouds': {'cloudiness': 100, 'unit': '%'}, 'wind': {'speed': 1.9, 'degrees': 188, 'direction': 'South', 'gust_speed': 2.86, 'speed_unit': 'meter/sec'}, 'visibility_distance': 10000, 'visibility_unit': 'm', 'probability_of_precipitation': 0, 'probability_of_precipitation_unit': '%', 'rain': {'amount': 0, 'unit': 'mm in the last 3 hour'}, 'snow': {'amount': 0, 'unit': 'mm in the last 3 hour'}, 'sys': {'part_of_day': 'night'}, 'dt_txt': '2025-06-25 09:00:00'}, {'dt': 1750852800, 'summery': 'overcast clouds, 285.92K, feels like 285.6K, winds 1.9 meter/sec from South, 90% humidity', 'main': {'temprature': 285.92, 'temprature_feels_like': 285.6, 'temprature_min': 285.92, 'temprature_max': 285.92, 'temprature_unit': 'K', 'pressure': 1017, 'sea_level_pressure': 1017, 'ground_level_pressure': 1008, 'pressure_unit': 'hPa', 'humidity': 90, 'humidity_unit': '%', 'temp_kf': 0}, 'weather': [{'id': 804, 'main': 'Clouds', 'description': 'overcast clouds', 'icon': 'https://openweathermap.org/img/wn/04n@2x.png'}], 'clouds': {'cloudiness': 100, 'unit': '%'}, 'wind': {'speed': 1.9, 'degrees': 189, 'direction': 'South', 'gust_speed': 4.17, 'speed_unit': 'meter/sec'}, 'visibility_distance': 10000, 'visibility_unit': 'm', 'probability_of_precipitation': 0, 'probability_of_precipitation_unit': '%', 'rain': {'amount': 0, 'unit': 'mm in the last 3 hour'}, 'snow': {'amount': 0, 'unit': 'mm in the last 3 hour'}, 'sys': {'part_of_day': 'night'}, 'dt_txt': '2025-06-25 12:00:00'}, {'dt': 1750863600, 'summery': 'overcast clouds, 287K, feels like 286.61K, winds 2.03 meter/sec from South, 83% humidity', 'main': {'temprature': 287, 'temprature_feels_like': 286.61, 'temprature_min': 287, 'temprature_max': 287, 'temprature_unit': 'K', 'pressure': 1018, 'sea_level_pressure': 1018, 'ground_level_pressure': 1009, 'pressure_unit': 'hPa', 'humidity': 83, 'humidity_unit': '%', 'temp_kf': 0}, 'weather': [{'id': 804, 'main': 'Clouds', 'description': 'overcast clouds', 'icon': 'https://openweathermap.org/img/wn/04d@2x.png'}], 'clouds': {'cloudiness': 100, 'unit': '%'}, 'wind': {'speed': 2.03, 'degrees': 188, 'direction': 'South', 'gust_speed': 3.49, 'speed_unit': 'meter/sec'}, 'visibility_distance': 10000, 'visibility_unit': 'm', 'probability_of_precipitation': 0, 'probability_of_precipitation_unit': '%', 'rain': {'amount': 0, 'unit': 'mm in the last 3 hour'}, 'snow': {'amount': 0, 'unit': 'mm in the last 3 hour'}, 'sys': {'part_of_day': 'day'}, 'dt_txt': '2025-06-25 15:00:00'}, {'dt': 1750874400, 'summery': 'overcast clouds, 288.74K, feels like 288.31K, winds 1.61 meter/sec from South-Southwest, 75% humidity', 'main': {'temprature': 288.74, 'temprature_feels_like': 288.31, 'temprature_min': 288.74, 'temprature_max': 288.74, 'temprature_unit': 'K', 'pressure': 1018, 'sea_level_pressure': 1018, 'ground_level_pressure': 1009, 'pressure_unit': 'hPa', 'humidity': 75, 'humidity_unit': '%', 'temp_kf': 0}, 'weather': [{'id': 804, 'main': 'Clouds', 'description': 'overcast clouds', 'icon': 'https://openweathermap.org/img/wn/04d@2x.png'}], 'clouds': {'cloudiness': 100, 'unit': '%'}, 'wind': {'speed': 1.61, 'degrees': 193, 'direction': 'South-Southwest', 'gust_speed': 2.1, 'speed_unit': 'meter/sec'}, 'visibility_distance': 10000, 'visibility_unit': 'm', 'probability_of_precipitation': 0, 'probability_of_precipitation_unit': '%', 'rain': {'amount': 0, 'unit': 'mm in the last 3 hour'}, 'snow': {'amount': 0, 'unit': 'mm in the last 3 hour'}, 'sys': {'part_of_day': 'day'}, 'dt_txt': '2025-06-25 18:00:00'}, {'dt': 1750885200, 'summery': 'overcast clouds, 293.14K, feels like 292.79K, winds 0.71 meter/sec from West-Southwest, 61% humidity', 'main': {'temprature': 293.14, 'temprature_feels_like': 292.79, 'temprature_min': 293.14, 'temprature_max': 293.14, 'temprature_unit': 'K', 'pressure': 1017, 'sea_level_pressure': 1017, 'ground_level_pressure': 1008, 'pressure_unit': 'hPa', 'humidity': 61, 'humidity_unit': '%', 'temp_kf': 0}, 'weather': [{'id': 804, 'main': 'Clouds', 'description': 'overcast clouds', 'icon': 'https://openweathermap.org/img/wn/04d@2x.png'}], 'clouds': {'cloudiness': 100, 'unit': '%'}, 'wind': {'speed': 0.71, 'degrees': 248, 'direction': 'West-Southwest', 'gust_speed': 1.14, 'speed_unit': 'meter/sec'}, 'visibility_distance': 10000, 'visibility_unit': 'm', 'probability_of_precipitation': 0, 'probability_of_precipitation_unit': '%', 'rain': {'amount': 0, 'unit': 'mm in the last 3 hour'}, 'snow': {'amount': 0, 'unit': 'mm in the last 3 hour'}, 'sys': {'part_of_day': 'day'}, 'dt_txt': '2025-06-25 21:00:00'}, {'dt': 1750896000, 'summery': 'overcast clouds, 292.49K, feels like 292.1K, winds 1.84 meter/sec from Northwest, 62% humidity', 'main': {'temprature': 292.49, 'temprature_feels_like': 292.1, 'temprature_min': 292.49, 'temprature_max': 292.49, 'temprature_unit': 'K', 'pressure': 1016, 'sea_level_pressure': 1016, 'ground_level_pressure': 1007, 'pressure_unit': 'hPa', 'humidity': 62, 'humidity_unit': '%', 'temp_kf': 0}, 'weather': [{'id': 804, 'main': 'Clouds', 'description': 'overcast clouds', 'icon': 'https://openweathermap.org/img/wn/04d@2x.png'}], 'clouds': {'cloudiness': 100, 'unit': '%'}, 'wind': {'speed': 1.84, 'degrees': 323, 'direction': 'Northwest', 'gust_speed': 2.04, 'speed_unit': 'meter/sec'}, 'visibility_distance': 10000, 'visibility_unit': 'm', 'probability_of_precipitation': 0, 'probability_of_precipitation_unit': '%', 'rain': {'amount': 0, 'unit': 'mm in the last 3 hour'}, 'snow': {'amount': 0, 'unit': 'mm in the last 3 hour'}, 'sys': {'part_of_day': 'day'}, 'dt_txt': '2025-06-26 00:00:00'}, {'dt': 1750906800, 'summery': 'overcast clouds, 290.9K, feels like 290.64K, winds 1 meter/sec from Northwest, 73% humidity', 'main': {'temprature': 290.9, 'temprature_feels_like': 290.64, 'temprature_min': 290.9, 'temprature_max': 290.9, 'temprature_unit': 'K', 'pressure': 1016, 'sea_level_pressure': 1016, 'ground_level_pressure': 1007, 'pressure_unit': 'hPa', 'humidity': 73, 'humidity_unit': '%', 'temp_kf': 0}, 'weather': [{'id': 804, 'main': 'Clouds', 'description': 'overcast clouds', 'icon': 'https://openweathermap.org/img/wn/04d@2x.png'}], 'clouds': {'cloudiness': 100, 'unit': '%'}, 'wind': {'speed': 1, 'degrees': 324, 'direction': 'Northwest', 'gust_speed': 1.25, 'speed_unit': 'meter/sec'}, 'visibility_distance': 10000, 'visibility_unit': 'm', 'probability_of_precipitation': 0, 'probability_of_precipitation_unit': '%', 'rain': {'amount': 0, 'unit': 'mm in the last 3 hour'}, 'snow': {'amount': 0, 'unit': 'mm in the last 3 hour'}, 'sys': {'part_of_day': 'day'}, 'dt_txt': '2025-06-26 03:00:00'}, {'dt': 1750917600, 'summery': 'overcast clouds, 288.78K, feels like 288.41K, winds 1.04 meter/sec from West, 77% humidity', 'main': {'temprature': 288.78, 'temprature_feels_like': 288.41, 'temprature_min': 288.78, 'temprature_max': 288.78, 'temprature_unit': 'K', 'pressure': 1016, 'sea_level_pressure': 1016, 'ground_level_pressure': 1007, 'pressure_unit': 'hPa', 'humidity': 77, 'humidity_unit': '%', 'temp_kf': 0}, 'weather': [{'id': 804, 'main': 'Clouds', 'description': 'overcast clouds', 'icon': 'https://openweathermap.org/img/wn/04n@2x.png'}], 'clouds': {'cloudiness': 100, 'unit': '%'}, 'wind': {'speed': 1.04, 'degrees': 268, 'direction': 'West', 'gust_speed': 1.25, 'speed_unit': 'meter/sec'}, 'visibility_distance': 10000, 'visibility_unit': 'm', 'probability_of_precipitation': 0, 'probability_of_precipitation_unit': '%', 'rain': {'amount': 0, 'unit': 'mm in the last 3 hour'}, 'snow': {'amount': 0, 'unit': 'mm in the last 3 hour'}, 'sys': {'part_of_day': 'night'}, 'dt_txt': '2025-06-26 06:00:00'}, {'dt': 1750928400, 'summery': 'overcast clouds, 285.95K, feels like 285.58K, winds 1.67 meter/sec from West-Southwest, 88% humidity', 'main': {'temprature': 285.95, 'temprature_feels_like': 285.58, 'temprature_min': 285.95, 'temprature_max': 285.95, 'temprature_unit': 'K', 'pressure': 1016, 'sea_level_pressure': 1016, 'ground_level_pressure': 1007, 'pressure_unit': 'hPa', 'humidity': 88, 'humidity_unit': '%', 'temp_kf': 0}, 'weather': [{'id': 804, 'main': 'Clouds', 'description': 'overcast clouds', 'icon': 'https://openweathermap.org/img/wn/04n@2x.png'}], 'clouds': {'cloudiness': 100, 'unit': '%'}, 'wind': {'speed': 1.67, 'degrees': 255, 'direction': 'West-Southwest', 'gust_speed': 2.08, 'speed_unit': 'meter/sec'}, 'visibility_distance': 10000, 'visibility_unit': 'm', 'probability_of_precipitation': 0, 'probability_of_precipitation_unit': '%', 'rain': {'amount': 0, 'unit': 'mm in the last 3 hour'}, 'snow': {'amount': 0, 'unit': 'mm in the last 3 hour'}, 'sys': {'part_of_day': 'night'}, 'dt_txt': '2025-06-26 09:00:00'}, {'dt': 1750939200, 'summery': 'broken clouds, 284.48K, feels like 284.07K, winds 1.19 meter/sec from Southwest, 92% humidity', 'main': {'temprature': 284.48, 'temprature_feels_like': 284.07, 'temprature_min': 284.48, 'temprature_max': 284.48, 'temprature_unit': 'K', 'pressure': 1016, 'sea_level_pressure': 1016, 'ground_level_pressure': 1007, 'pressure_unit': 'hPa', 'humidity': 92, 'humidity_unit': '%', 'temp_kf': 0}, 'weather': [{'id': 803, 'main': 'Clouds', 'description': 'broken clouds', 'icon': 'https://openweathermap.org/img/wn/04n@2x.png'}], 'clouds': {'cloudiness': 83, 'unit': '%'}, 'wind': {'speed': 1.19, 'degrees': 235, 'direction': 'Southwest', 'gust_speed': 1.12, 'speed_unit': 'meter/sec'}, 'visibility_distance': 10000, 'visibility_unit': 'm', 'probability_of_precipitation': 0, 'probability_of_precipitation_unit': '%', 'rain': {'amount': 0, 'unit': 'mm in the last 3 hour'}, 'snow': {'amount': 0, 'unit': 'mm in the last 3 hour'}, 'sys': {'part_of_day': 'night'}, 'dt_txt': '2025-06-26 12:00:00'}, {'dt': 1750950000, 'summery': 'scattered clouds, 287.84K, feels like 287.38K, winds 1.28 meter/sec from West-Southwest, 77% humidity', 'main': {'temprature': 287.84, 'temprature_feels_like': 287.38, 'temprature_min': 287.84, 'temprature_max': 287.84, 'temprature_unit': 'K', 'pressure': 1017, 'sea_level_pressure': 1017, 'ground_level_pressure': 1008, 'pressure_unit': 'hPa', 'humidity': 77, 'humidity_unit': '%', 'temp_kf': 0}, 'weather': [{'id': 802, 'main': 'Clouds', 'description': 'scattered clouds', 'icon': 'https://openweathermap.org/img/wn/03d@2x.png'}], 'clouds': {'cloudiness': 34, 'unit': '%'}, 'wind': {'speed': 1.28, 'degrees': 240, 'direction': 'West-Southwest', 'gust_speed': 1.79, 'speed_unit': 'meter/sec'}, 'visibility_distance': 10000, 'visibility_unit': 'm', 'probability_of_precipitation': 0, 'probability_of_precipitation_unit': '%', 'rain': {'amount': 0, 'unit': 'mm in the last 3 hour'}, 'snow': {'amount': 0, 'unit': 'mm in the last 3 hour'}, 'sys': {'part_of_day': 'day'}, 'dt_txt': '2025-06-26 15:00:00'}, {'dt': 1750960800, 'summery': 'few clouds, 293.87K, feels like 293.41K, winds 1.6 meter/sec from Southwest, 54% humidity', 'main': {'temprature': 293.87, 'temprature_feels_like': 293.41, 'temprature_min': 293.87, 'temprature_max': 293.87, 'temprature_unit': 'K', 'pressure': 1016, 'sea_level_pressure': 1016, 'ground_level_pressure': 1008, 'pressure_unit': 'hPa', 'humidity': 54, 'humidity_unit': '%', 'temp_kf': 0}, 'weather': [{'id': 801, 'main': 'Clouds', 'description': 'few clouds', 'icon': 'https://openweathermap.org/img/wn/02d@2x.png'}], 'clouds': {'cloudiness': 23, 'unit': '%'}, 'wind': {'speed': 1.6, 'degrees': 220, 'direction': 'Southwest', 'gust_speed': 2.27, 'speed_unit': 'meter/sec'}, 'visibility_distance': 10000, 'visibility_unit': 'm', 'probability_of_precipitation': 0, 'probability_of_precipitation_unit': '%', 'rain': {'amount': 0, 'unit': 'mm in the last 3 hour'}, 'snow': {'amount': 0, 'unit': 'mm in the last 3 hour'}, 'sys': {'part_of_day': 'day'}, 'dt_txt': '2025-06-26 18:00:00'}, {'dt': 1750971600, 'summery': 'scattered clouds, 298.33K, feels like 297.9K, winds 0.95 meter/sec from Southwest, 38% humidity', 'main': {'temprature': 298.33, 'temprature_feels_like': 297.9, 'temprature_min': 298.33, 'temprature_max': 298.33, 'temprature_unit': 'K', 'pressure': 1014, 'sea_level_pressure': 1014, 'ground_level_pressure': 1006, 'pressure_unit': 'hPa', 'humidity': 38, 'humidity_unit': '%', 'temp_kf': 0}, 'weather': [{'id': 802, 'main': 'Clouds', 'description': 'scattered clouds', 'icon': 'https://openweathermap.org/img/wn/03d@2x.png'}], 'clouds': {'cloudiness': 25, 'unit': '%'}, 'wind': {'speed': 0.95, 'degrees': 224, 'direction': 'Southwest', 'gust_speed': 2.36, 'speed_unit': 'meter/sec'}, 'visibility_distance': 10000, 'visibility_unit': 'm', 'probability_of_precipitation': 0, 'probability_of_precipitation_unit': '%', 'rain': {'amount': 0, 'unit': 'mm in the last 3 hour'}, 'snow': {'amount': 0, 'unit': 'mm in the last 3 hour'}, 'sys': {'part_of_day': 'day'}, 'dt_txt': '2025-06-26 21:00:00'}, {'dt': 1750982400, 'summery': 'broken clouds, 296.34K, feels like 295.84K, winds 3.33 meter/sec from West-Northwest, 43% humidity', 'main': {'temprature': 296.34, 'temprature_feels_like': 295.84, 'temprature_min': 296.34, 'temprature_max': 296.34, 'temprature_unit': 'K', 'pressure': 1014, 'sea_level_pressure': 1014, 'ground_level_pressure': 1005, 'pressure_unit': 'hPa', 'humidity': 43, 'humidity_unit': '%', 'temp_kf': 0}, 'weather': [{'id': 803, 'main': 'Clouds', 'description': 'broken clouds', 'icon': 'https://openweathermap.org/img/wn/04d@2x.png'}], 'clouds': {'cloudiness': 54, 'unit': '%'}, 'wind': {'speed': 3.33, 'degrees': 294, 'direction': 'West-Northwest', 'gust_speed': 3.43, 'speed_unit': 'meter/sec'}, 'visibility_distance': 10000, 'visibility_unit': 'm', 'probability_of_precipitation': 0, 'probability_of_precipitation_unit': '%', 'rain': {'amount': 0, 'unit': 'mm in the last 3 hour'}, 'snow': {'amount': 0, 'unit': 'mm in the last 3 hour'}, 'sys': {'part_of_day': 'day'}, 'dt_txt': '2025-06-27 00:00:00'}], 'city': {'id': 5750162, 'name': 'Salem', 'coord': {'lat': 44.9392, 'lon': -123.0331}, 'country': 'US', 'population': 154637, 'timezone': -25200, 'sunrise': 1750508743, 'sunrise_txt': '2025-06-21T12:25:43.000Z', 'sunset': 1750564933, 'sunset_txt': '2025-06-22T04:02:13.000Z'}}\n"
     ]
    }
   ],
   "source": [
    "# Example dummy function hard coded to return the same weather\n",
    "# In production, this could be your backend API or an external API\n",
    "\n",
    "import requests\n",
    "\n",
    "def get_current_weather(location):\n",
    "    \"\"\"Get the current weather in a given location\"\"\"\n",
    "\n",
    "    url = \"https://weather-api167.p.rapidapi.com/api/weather/forecast\"\n",
    "    querystring = {\"place\":location}\n",
    "\n",
    "    headers = {\n",
    "    'x-rapidapi-key': rapid_api_key,\n",
    "    'x-rapidapi-host': \"weather-api167.p.rapidapi.com\",\n",
    "\t\"Accept\": \"application/json\"\n",
    "    }\n",
    "\n",
    "    response = requests.get(url, headers=headers, params=querystring)\n",
    "\n",
    "    print(response.json())\n",
    "\n",
    "    return response.json()\n",
    "\n",
    "response = get_current_weather(\"Salem, Tamilnadu\")"
   ]
  },
  {
   "cell_type": "code",
   "execution_count": 43,
   "id": "be527e84",
   "metadata": {},
   "outputs": [
    {
     "data": {
      "text/plain": [
       "'light rain, 285.3K, feels like 284.95K, winds 2.82 meter/sec from South, 91% humidity'"
      ]
     },
     "execution_count": 43,
     "metadata": {},
     "output_type": "execute_result"
    }
   ],
   "source": [
    "response['list'][0]['summery']"
   ]
  },
  {
   "cell_type": "markdown",
   "id": "4755f64b",
   "metadata": {},
   "source": [
    "## Function Call"
   ]
  },
  {
   "cell_type": "code",
   "execution_count": 44,
   "id": "7a6bcde1",
   "metadata": {},
   "outputs": [],
   "source": [
    "functions = [\n",
    "    {\n",
    "        \"name\": \"get_current_weather\",\n",
    "        \"description\": \"Get the current weather in a given location\",\n",
    "        \"parameters\": {\n",
    "            \"type\": \"object\",\n",
    "            \"properties\": {\n",
    "                \"location\": {\n",
    "                    \"type\": \"string\",\n",
    "                    \"description\": \"The city and state, e.g. San Francisco, CA\"\n",
    "                }\n",
    "            },\n",
    "            \"required\":[\"location\"]\n",
    "        }\n",
    "    }\n",
    "]"
   ]
  },
  {
   "cell_type": "markdown",
   "id": "d9b94820",
   "metadata": {},
   "source": [
    "## Chat Completion API"
   ]
  },
  {
   "cell_type": "code",
   "execution_count": 74,
   "id": "c53e5107",
   "metadata": {},
   "outputs": [],
   "source": [
    "user_message1 = \"Hi, There\"\n",
    "user_message2 = \"Wether of Salem, Tamilnadu\"\n",
    "\n",
    "messages = []\n",
    "messages.append({\"role\":\"user\",\"content\":user_message1})\n",
    "messages.append({\"role\":\"user\",\"content\":user_message2})"
   ]
  },
  {
   "cell_type": "code",
   "execution_count": null,
   "id": "de591c52",
   "metadata": {},
   "outputs": [],
   "source": [
    "response_1 = openai.chat.completions.create(\n",
    "    model=\"gpt-3.5-turbo\",\n",
    "    messages=messages,\n",
    "    functions=functions\n",
    ")"
   ]
  },
  {
   "cell_type": "code",
   "execution_count": 52,
   "id": "fe606262",
   "metadata": {},
   "outputs": [
    {
     "name": "stdout",
     "output_type": "stream",
     "text": [
      "ChatCompletionMessage(content=None, refusal=None, role='assistant', audio=None, function_call=FunctionCall(arguments='{\"location\":\"Salem, Tamilnadu\"}', name='get_current_weather'), tool_calls=None, annotations=[])\n"
     ]
    }
   ],
   "source": [
    "print(response_1.choices[0].message)"
   ]
  },
  {
   "cell_type": "code",
   "execution_count": 67,
   "id": "407338d1",
   "metadata": {},
   "outputs": [
    {
     "name": "stdout",
     "output_type": "stream",
     "text": [
      "function_name = get_current_weather \n",
      "location = Salem, Tamilnadu\n"
     ]
    }
   ],
   "source": [
    "function_detail = response_1.choices[0].message.function_call\n",
    "location = eval(function_detail.arguments)['location']\n",
    "function_name = function_detail.name\n",
    "\n",
    "print(f\"function_name = {function_name} \\nlocation = {location}\")"
   ]
  },
  {
   "cell_type": "code",
   "execution_count": 75,
   "id": "47be9c60",
   "metadata": {},
   "outputs": [
    {
     "data": {
      "text/plain": [
       "[{'role': 'user', 'content': 'Hi, There'},\n",
       " {'role': 'user', 'content': 'Wether of Salem, Tamilnadu'},\n",
       " ChatCompletionMessage(content=None, refusal=None, role='assistant', audio=None, function_call=FunctionCall(arguments='{\"location\":\"Salem, Tamilnadu\"}', name='get_current_weather'), tool_calls=None, annotations=[]),\n",
       " {'role': 'function',\n",
       "  'name': 'get_current_weather',\n",
       "  'content': 'Salem, Tamilnadu'}]"
      ]
     },
     "execution_count": 75,
     "metadata": {},
     "output_type": "execute_result"
    }
   ],
   "source": [
    "# Send these info to the function call  and function response to GPT\n",
    "\n",
    "messages.append(response_1.choices[0].message)\n",
    "messages.append(\n",
    "    {\n",
    "        \"role\":\"function\",\n",
    "        \"name\": function_name,\n",
    "        \"content\": location\n",
    "    }\n",
    ")\n",
    "messages"
   ]
  },
  {
   "cell_type": "code",
   "execution_count": 76,
   "id": "ea75210f",
   "metadata": {},
   "outputs": [],
   "source": [
    "# extend the conversation with function response\n",
    "second_response = openai.chat.completions.create(\n",
    "    model=\"gpt-3.5-turbo\",\n",
    "    messages=messages,\n",
    "    functions=functions\n",
    ")"
   ]
  },
  {
   "cell_type": "code",
   "execution_count": 78,
   "id": "7eafe3d8",
   "metadata": {},
   "outputs": [
    {
     "data": {
      "text/plain": [
       "'The current weather in Salem, Tamil Nadu is foggy with a temperature of 27°C.'"
      ]
     },
     "execution_count": 78,
     "metadata": {},
     "output_type": "execute_result"
    }
   ],
   "source": [
    "second_response.choices[0].message.content"
   ]
  },
  {
   "cell_type": "code",
   "execution_count": null,
   "id": "0b611acd",
   "metadata": {},
   "outputs": [],
   "source": []
  }
 ],
 "metadata": {
  "kernelspec": {
   "display_name": "Python 3",
   "language": "python",
   "name": "python3"
  },
  "language_info": {
   "codemirror_mode": {
    "name": "ipython",
    "version": 3
   },
   "file_extension": ".py",
   "mimetype": "text/x-python",
   "name": "python",
   "nbconvert_exporter": "python",
   "pygments_lexer": "ipython3",
   "version": "3.11.0"
  }
 },
 "nbformat": 4,
 "nbformat_minor": 5
}
